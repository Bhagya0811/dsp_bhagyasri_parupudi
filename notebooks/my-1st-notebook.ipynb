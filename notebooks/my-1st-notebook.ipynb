{
 "cells": [
  {
   "cell_type": "code",
   "execution_count": 2,
   "id": "276bd053-290d-4931-bb23-c647d650bc38",
   "metadata": {},
   "outputs": [
    {
     "name": "stdout",
     "output_type": "stream",
     "text": [
      "Collecting numpy\n",
      "  Downloading numpy-2.0.2-cp39-cp39-win_amd64.whl.metadata (59 kB)\n",
      "Downloading numpy-2.0.2-cp39-cp39-win_amd64.whl (15.9 MB)\n",
      "   ---------------------------------------- 0.0/15.9 MB ? eta -:--:--\n",
      "   --- ------------------------------------ 1.6/15.9 MB 7.6 MB/s eta 0:00:02\n",
      "   ------- -------------------------------- 3.1/15.9 MB 7.7 MB/s eta 0:00:02\n",
      "   ----------- ---------------------------- 4.7/15.9 MB 7.5 MB/s eta 0:00:02\n",
      "   --------------- ------------------------ 6.3/15.9 MB 7.4 MB/s eta 0:00:02\n",
      "   ------------------- -------------------- 7.6/15.9 MB 7.3 MB/s eta 0:00:02\n",
      "   --------------------- ------------------ 8.7/15.9 MB 6.8 MB/s eta 0:00:02\n",
      "   ----------------------- ---------------- 9.4/15.9 MB 6.4 MB/s eta 0:00:02\n",
      "   --------------------------- ------------ 10.7/15.9 MB 6.4 MB/s eta 0:00:01\n",
      "   ------------------------------ --------- 12.3/15.9 MB 6.5 MB/s eta 0:00:01\n",
      "   ---------------------------------- ----- 13.9/15.9 MB 6.6 MB/s eta 0:00:01\n",
      "   -------------------------------------- - 15.5/15.9 MB 6.7 MB/s eta 0:00:01\n",
      "   ---------------------------------------- 15.9/15.9 MB 6.3 MB/s eta 0:00:00\n",
      "Installing collected packages: numpy\n",
      "Successfully installed numpy-2.0.2\n",
      "Note: you may need to restart the kernel to use updated packages.\n"
     ]
    }
   ],
   "source": [
    "pip install numpy"
   ]
  },
  {
   "cell_type": "code",
   "execution_count": 3,
   "id": "949acaeb-82c5-4feb-9397-403119319120",
   "metadata": {},
   "outputs": [
    {
     "data": {
      "text/plain": [
       "array([[63, 55, 93],\n",
       "       [29, 53, 35],\n",
       "       [60, 95, 89],\n",
       "       [75, 82, 28],\n",
       "       [50, 28,  3],\n",
       "       [96, 83,  4],\n",
       "       [19,  8, 44],\n",
       "       [38, 33, 27],\n",
       "       [25, 13, 79],\n",
       "       [18, 25, 51]], dtype=int32)"
      ]
     },
     "metadata": {},
     "output_type": "display_data"
    }
   ],
   "source": [
    "import numpy as np\n",
    "from IPython.display import display\n",
    "\n",
    "my_array = np.random.randint(0, 100, size=(10, 3))\n",
    "display(my_array)\n"
   ]
  },
  {
   "cell_type": "code",
   "execution_count": null,
   "id": "230da19a-eb65-4c61-906c-6a8bb61dfede",
   "metadata": {},
   "outputs": [],
   "source": []
  }
 ],
 "metadata": {
  "kernelspec": {
   "display_name": "Python 3 (ipykernel)",
   "language": "python",
   "name": "python3"
  },
  "language_info": {
   "codemirror_mode": {
    "name": "ipython",
    "version": 3
   },
   "file_extension": ".py",
   "mimetype": "text/x-python",
   "name": "python",
   "nbconvert_exporter": "python",
   "pygments_lexer": "ipython3",
   "version": "3.9.21"
  }
 },
 "nbformat": 4,
 "nbformat_minor": 5
}
